{
 "cells": [
  {
   "cell_type": "code",
   "execution_count": 0,
   "metadata": {
    "application/vnd.databricks.v1+cell": {
     "cellMetadata": {
      "byteLimit": 2048000,
      "rowLimit": 10000
     },
     "inputWidgets": {},
     "nuid": "db8139b6-cc18-4200-a915-7a11784b0aab",
     "showTitle": false,
     "title": ""
    }
   },
   "outputs": [],
   "source": [
    "# !pip install data-ml-utils==0.3.2"
   ]
  },
  {
   "cell_type": "code",
   "execution_count": 0,
   "metadata": {
    "application/vnd.databricks.v1+cell": {
     "cellMetadata": {
      "byteLimit": 2048000,
      "rowLimit": 10000
     },
     "inputWidgets": {},
     "nuid": "92e354e6-b5f6-4d26-9100-18fffbf2d30d",
     "showTitle": true,
     "title": "MLflow start run"
    }
   },
   "outputs": [],
   "source": [
    "import mlflow\n",
    "\n",
    "from data_ml_utils.mlflow_databricks.mlflow_tracker import mlflow_log_artifact\n",
    "from data_ml_utils.mlflow_databricks.mlflow_tracker import mlflow_log_register_model\n",
    "from data_ml_utils.mlflow_databricks.mlflow_tracker import mlflow_log_params\n",
    "from data_ml_utils.mlflow_databricks.mlflow_tracker import mlflow_log_metric"
   ]
  },
  {
   "cell_type": "code",
   "execution_count": 0,
   "metadata": {
    "application/vnd.databricks.v1+cell": {
     "cellMetadata": {
      "byteLimit": 2048000,
      "rowLimit": 10000
     },
     "inputWidgets": {},
     "nuid": "68511516-9750-4b2e-9f23-2738a5740213",
     "showTitle": false,
     "title": ""
    }
   },
   "outputs": [
    {
     "name": "stdout",
     "output_type": "stream",
     "text": [
      "Out[3]: <ActiveRun: >"
     ]
    }
   ],
   "source": [
    "mlflow.start_run(\n",
    "    run_name=\"test_12345678\",\n",
    "    experiment_id=983925840423560,\n",
    ")"
   ]
  },
  {
   "cell_type": "code",
   "execution_count": 0,
   "metadata": {
    "application/vnd.databricks.v1+cell": {
     "cellMetadata": {
      "byteLimit": 2048000,
      "rowLimit": 10000
     },
     "inputWidgets": {},
     "nuid": "49375fa6-6598-4db3-a7fc-32cc424f143b",
     "showTitle": true,
     "title": "MLflow log artifact"
    }
   },
   "outputs": [
    {
     "name": "stdout",
     "output_type": "stream",
     "text": [
      "Out[6]: 'artifact test_file logged'"
     ]
    }
   ],
   "source": [
    "\n",
    "\n",
    "test_object = {\"test_object\": \"testing_123\"}\n",
    "\n",
    "mlflow_log_artifact(\n",
    "    artifact=test_object,\n",
    "    artifact_name=\"test_file\"\n",
    ")\n",
    "\n",
    "mlflow_log_artifact(\n",
    "    artifact=test_object,\n",
    "    artifact_name=\"test_file\",\n",
    "    artifact_path=\"test_directory\"\n",
    ")"
   ]
  },
  {
   "cell_type": "code",
   "execution_count": 1,
   "metadata": {
    "application/vnd.databricks.v1+cell": {
     "cellMetadata": {
      "byteLimit": 2048000,
      "rowLimit": 10000
     },
     "inputWidgets": {},
     "nuid": "dbc1d584-4e7f-451c-9f9d-a9b9f510dd8a",
     "showTitle": true,
     "title": "MLflow log and register model"
    }
   },
   "outputs": [],
   "source": [
    "model = mlflow.sklearn.load_model(\n",
    "    model_uri=(\"models:/meowth/Staging\")\n",
    ")\n",
    "\n",
    "model_function_dict = {\n",
    "    \"sk_model\": [\"sklearn\", \"code_paths\"],\n",
    "    \"xgb_model\": [\"xgboost\", \"code_paths\"],\n",
    "    \"lgb_model\": [\"lightgbm\", \"code_paths\"],\n",
    "    \"keras_model\": [\"keras\", \"code_paths\"],\n",
    "    \"pytorch_model\": [\"pytorch\", \"code_paths\"],\n",
    "    \"python_model\": [\"pyfunc\", \"code_path\"],\n",
    "}\n",
    "\n",
    "model_function_dict = {\n",
    "    \"sk_model\": [\"sklearn\", \"code_paths\"],\n",
    "    \"xgb_model\": [\"xgboost\", \"code_paths\"],\n",
    "    \"lgb_model\": [\"lightgbm\", \"code_paths\"],\n",
    "    \"keras_model\": [\"keras\", \"code_paths\"],\n",
    "    \"pytorch_model\": [\"pytorch\", \"code_paths\"],\n",
    "    \"python_model\": [\"pyfunc\", \"code_path\"],\n",
    "}\n",
    "\n",
    "mlflow_log_register_model(\n",
    "    model=model,\n",
    "    type_of_model=\"sk_model\",\n",
    "    model_func_dict=model_function_dict,\n",
    "    artifact_path=\"test_directory_2\",\n",
    "    name_of_registered_model=\"dp-handyman-small-sized\",\n",
    ")"
   ]
  },
  {
   "cell_type": "code",
   "execution_count": 0,
   "metadata": {
    "application/vnd.databricks.v1+cell": {
     "cellMetadata": {
      "byteLimit": 2048000,
      "rowLimit": 10000
     },
     "inputWidgets": {},
     "nuid": "98299a0f-e82c-4e33-a241-0016e5a6c4e7",
     "showTitle": true,
     "title": "MLflow log model parameters"
    }
   },
   "outputs": [
    {
     "name": "stdout",
     "output_type": "stream",
     "text": [
      "Out[10]: \"params {'n_depth': 100, 'n_trees': 1} logged\""
     ]
    }
   ],
   "source": [
    "parameters_dict = {\n",
    "    \"n_depth\": 100,\n",
    "    \"n_trees\": 1,\n",
    "}\n",
    "\n",
    "mlflow_log_params(\n",
    "    params=parameters_dict\n",
    ")"
   ]
  },
  {
   "cell_type": "code",
   "execution_count": 0,
   "metadata": {
    "application/vnd.databricks.v1+cell": {
     "cellMetadata": {
      "byteLimit": 2048000,
      "rowLimit": 10000
     },
     "inputWidgets": {},
     "nuid": "d38efaff-f184-452a-b8b4-833dcd5f370f",
     "showTitle": true,
     "title": "MLflow log model evaluation metric"
    }
   },
   "outputs": [
    {
     "name": "stdout",
     "output_type": "stream",
     "text": [
      "Out[13]: 'model evaluation metric accuracy, 1.0 logged'"
     ]
    }
   ],
   "source": [
    "mlflow_log_metric(key=\"accuracy\", value= 1.0)"
   ]
  }
 ],
 "metadata": {
  "application/vnd.databricks.v1+notebook": {
   "dashboards": [],
   "language": "python",
   "notebookMetadata": {
    "mostRecentlyExecutedCommandWithImplicitDF": {
     "commandId": 4175474861015170,
     "dataframes": [
      "_sqldf"
     ]
    },
    "pythonIndentUnit": 4
   },
   "notebookName": "tutorial-mlflow-utils",
   "notebookOrigID": 4175474861015167,
   "widgets": {}
  },
  "kernelspec": {
   "display_name": "Python 3",
   "language": "python",
   "name": "python3"
  },
  "language_info": {
   "codemirror_mode": {
    "name": "ipython",
    "version": 3
   },
   "file_extension": ".py",
   "mimetype": "text/x-python",
   "name": "python",
   "nbconvert_exporter": "python",
   "pygments_lexer": "ipython3",
   "version": "3.8.8"
  }
 },
 "nbformat": 4,
 "nbformat_minor": 1
}
