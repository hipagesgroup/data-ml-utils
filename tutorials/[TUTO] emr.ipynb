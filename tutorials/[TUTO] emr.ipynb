{
 "cells": [
  {
   "cell_type": "code",
   "execution_count": 1,
   "id": "13dc1f86",
   "metadata": {},
   "outputs": [],
   "source": [
    "import os\n",
    "from data_ml_utils.boto3_botocore_client.client_emr import AwsEMRServices\n",
    "\n",
    "os.environ[\"AWS_ACCESS_KEY_ID\"] = \"xxx\"\n",
    "os.environ[\"AWS_SECRET_ACCESS_KEY\"] = \"xxx\""
   ]
  },
  {
   "cell_type": "markdown",
   "id": "eb4a5305",
   "metadata": {},
   "source": [
    "### initialise emr client"
   ]
  },
  {
   "cell_type": "code",
   "execution_count": 2,
   "id": "159a7d0c",
   "metadata": {},
   "outputs": [],
   "source": [
    "aws_emr = AwsEMRServices()"
   ]
  },
  {
   "cell_type": "markdown",
   "id": "270811d0",
   "metadata": {},
   "source": [
    "### create EMR cluster with specifications\n",
    "- almost one-liner to create EMR cluster"
   ]
  },
  {
   "cell_type": "code",
   "execution_count": 3,
   "id": "87e3d160",
   "metadata": {},
   "outputs": [],
   "source": [
    "configurations = [\n",
    "    {\n",
    "        \"Classification\": \"spark-hive-site\",\n",
    "        \"Properties\": {\n",
    "            \"hive.metastore.glue.catalogid\": \"251259879778\",\n",
    "            \"hive.metastore.client.factory.class\": (\n",
    "                \"\"\"com.amazonaws.glue.catalog.metastore.\"\"\"\n",
    "                \"\"\"AWSGlueDataCatalogHiveClientFactory\"\"\"\n",
    "            ),\n",
    "        },\n",
    "        \"Configurations\": [],\n",
    "    },\n",
    "    {\n",
    "        \"Classification\": \"zeppelin-env\",\n",
    "        \"Properties\": {},\n",
    "        \"Configurations\": [\n",
    "            {\n",
    "                \"Classification\": \"export\",\n",
    "                \"Properties\": {\n",
    "                    \"ZEPPELIN_NOTEBOOK_S3_BUCKET\": \"hipages-long-lake\",\n",
    "                    \"ZEPPELIN_NOTEBOOK_S3_USER\": \"zeppelin\",\n",
    "                    \"ZEPPELIN_NOTEBOOK_STORAGE\": (\n",
    "                        \"org.apache.zeppelin.notebook.repo.S3NotebookRepo\"\n",
    "                    ),\n",
    "                    \"ZEPPELIN_NOTEBOOK_CRON_ENABLE\": \"true\",\n",
    "                },\n",
    "                \"Configurations\": [],\n",
    "            }\n",
    "        ],\n",
    "    },\n",
    "    {\n",
    "        \"Classification\": \"spark-defaults\",\n",
    "        \"Properties\": {\n",
    "            \"spark.executor.cores\": \"4\",\n",
    "            \"spark.executor.memory\": \"9486M\",\n",
    "            \"spark.driver.memory\": \"10G\",\n",
    "            \"spark.sql.legacy.timeParserPolicy\": \"LEGACY\",\n",
    "            \"spark.sql.autoBroadcastJoinThreshold\": \"-1\",\n",
    "            \"spark.hadoop.mapreduce.fileoutputcommitter.algorithm.version\": \"2\",\n",
    "            \"spark.hadoop.mapreduce.fileoutputcommitter.cleanup-failures.ignored\": \"true\",  # noqa E501\n",
    "            \"spark.hadoop.parquet.enable.summary-metadata\": \"false\",\n",
    "            \"spark.sql.parquet.mergeSchema\": \"false\",\n",
    "            \"spark.sql.parquet.filterPushdown\": \"true\",\n",
    "            \"spark.sql.hive.metastorePartitionPruning\": \"true\",\n",
    "            \"spark.hadoop.fs.s3a.committer.name\": \"directory\",\n",
    "        },\n",
    "        \"Configurations\": [],\n",
    "    },\n",
    "]\n",
    "\n",
    "# emr applications required\n",
    "applications_required = [\n",
    "    {\"Name\": \"Spark\"},\n",
    "    {\"Name\": \"Zeppelin\"},\n",
    "    {\"Name\": \"Hadoop\"},\n",
    "    {\"Name\": \"Hue\"},\n",
    "    {\"Name\": \"Hive\"},\n",
    "    {\"Name\": \"Pig\"},\n",
    "    {\"Name\": \"Ganglia\"},\n",
    "]"
   ]
  },
  {
   "cell_type": "code",
   "execution_count": 4,
   "id": "2fb72f79",
   "metadata": {},
   "outputs": [
    {
     "data": {
      "text/plain": [
       "{'JobFlowId': 'j-MRVJ9KXIZV79',\n",
       " 'ClusterArn': 'arn:aws:elasticmapreduce:ap-southeast-2:251259879778:cluster/j-MRVJ9KXIZV79',\n",
       " 'ResponseMetadata': {'RequestId': '912e3c2c-1c6b-4694-915b-f893670644a1',\n",
       "  'HTTPStatusCode': 200,\n",
       "  'HTTPHeaders': {'x-amzn-requestid': '912e3c2c-1c6b-4694-915b-f893670644a1',\n",
       "   'content-type': 'application/x-amz-json-1.1',\n",
       "   'content-length': '121',\n",
       "   'date': 'Wed, 27 Apr 2022 04:48:23 GMT'},\n",
       "  'RetryAttempts': 0}}"
      ]
     },
     "execution_count": 4,
     "metadata": {},
     "output_type": "execute_result"
    }
   ],
   "source": [
    "aws_emr.create_emr_cluster(\n",
    "    master_instance_type=\"m5.xlarge\",\n",
    "    core_instance_type=\"m5.xlarge\",\n",
    "    core_instance_count=1,\n",
    "    configurations=configurations,\n",
    "    applications=applications_required,\n",
    "    log_uri=\"s3n://au-com-hipages-data-scratchpad/shuming-development/elasticmapreduce/\",\n",
    "    task_id=\"test\",\n",
    "    identifier=\"1989-01-01\",\n",
    "    bidprice=\"0.6\",\n",
    ")"
   ]
  },
  {
   "cell_type": "markdown",
   "id": "34cc824c",
   "metadata": {},
   "source": [
    "### check created EMR cluster\n",
    "- we will check if the cluster is in `WAITING` state\n",
    "- one-liner to check for EMR cluster status"
   ]
  },
  {
   "cell_type": "code",
   "execution_count": 6,
   "id": "aa99aca1",
   "metadata": {},
   "outputs": [
    {
     "name": "stdout",
     "output_type": "stream",
     "text": [
      "Cluster is up and running, please proceed\n"
     ]
    },
    {
     "data": {
      "text/plain": [
       "0"
      ]
     },
     "execution_count": 6,
     "metadata": {},
     "output_type": "execute_result"
    }
   ],
   "source": [
    "aws_emr.check_emr_cluster_status(\n",
    "  cluster_id=\"j-MRVJ9KXIZV79\"\n",
    ")"
   ]
  },
  {
   "cell_type": "markdown",
   "id": "578597e2",
   "metadata": {},
   "source": [
    "### get cluster id from task and date identifier\n",
    "- one-liner to retrieve cluster id"
   ]
  },
  {
   "cell_type": "code",
   "execution_count": 7,
   "id": "1eb4cebd",
   "metadata": {},
   "outputs": [
    {
     "data": {
      "text/plain": [
       "'j-MRVJ9KXIZV79'"
      ]
     },
     "execution_count": 7,
     "metadata": {},
     "output_type": "execute_result"
    }
   ],
   "source": [
    "aws_emr.get_cluster_id(\n",
    "  task_id=\"test\",\n",
    "  identifier=\"1989-01-01\"\n",
    ")"
   ]
  },
  {
   "cell_type": "markdown",
   "id": "846a27e3",
   "metadata": {},
   "source": [
    "### get EMR cluster master dns name\n",
    "- one-liner to retrieve EMR cluster master dns name"
   ]
  },
  {
   "cell_type": "code",
   "execution_count": 8,
   "id": "69559e9b",
   "metadata": {},
   "outputs": [
    {
     "data": {
      "text/plain": [
       "'ec2-3-26-50-250.ap-southeast-2.compute.amazonaws.com'"
      ]
     },
     "execution_count": 8,
     "metadata": {},
     "output_type": "execute_result"
    }
   ],
   "source": [
    "aws_emr.get_emr_master_dns_name(\n",
    "  cluster_id=\"j-MRVJ9KXIZV79\"\n",
    ")"
   ]
  },
  {
   "cell_type": "markdown",
   "id": "71eef8b0",
   "metadata": {},
   "source": [
    "### terminate created EMR cluster\n",
    "- one-liner to terminate EMR cluster"
   ]
  },
  {
   "cell_type": "code",
   "execution_count": 9,
   "id": "28578532",
   "metadata": {},
   "outputs": [
    {
     "data": {
      "text/plain": [
       "0"
      ]
     },
     "execution_count": 9,
     "metadata": {},
     "output_type": "execute_result"
    }
   ],
   "source": [
    "aws_emr.terminate_emr_cluster(\n",
    "  cluster_id=\"j-MRVJ9KXIZV79\"\n",
    ")"
   ]
  },
  {
   "cell_type": "markdown",
   "id": "12956a60",
   "metadata": {},
   "source": [
    "### wrapper function to spin up EMR cluster\n",
    "- this wrapper function creates an EMR cluster and check that the status is in `WAITTING`\n",
    "- it has up to 3 tries to create a successful EMR cluster\n",
    "- it will fail after 3 tries\n",
    "- one line to spin up EMR cluster"
   ]
  },
  {
   "cell_type": "code",
   "execution_count": 11,
   "id": "dca0e14f",
   "metadata": {},
   "outputs": [
    {
     "name": "stdout",
     "output_type": "stream",
     "text": [
      "Cluster is up and running, please proceed\n"
     ]
    },
    {
     "data": {
      "text/plain": [
       "0"
      ]
     },
     "execution_count": 11,
     "metadata": {},
     "output_type": "execute_result"
    }
   ],
   "source": [
    "aws_emr.spin_up_emr_cluster(\n",
    "    master_instance_type=\"m5.xlarge\",\n",
    "    core_instance_type=\"m5.xlarge\",\n",
    "    core_instance_count=1,\n",
    "    configurations=configurations,\n",
    "    applications=applications_required,\n",
    "    log_uri=\"s3n://au-com-hipages-data-scratchpad/shuming-development/elasticmapreduce/\",\n",
    "    task_id=\"test\",\n",
    "    identifier=\"1989-01-02\",\n",
    "    bidprice=\"0.6\",\n",
    ")"
   ]
  }
 ],
 "metadata": {
  "kernelspec": {
   "display_name": "Python 3",
   "language": "python",
   "name": "python3"
  },
  "language_info": {
   "codemirror_mode": {
    "name": "ipython",
    "version": 3
   },
   "file_extension": ".py",
   "mimetype": "text/x-python",
   "name": "python",
   "nbconvert_exporter": "python",
   "pygments_lexer": "ipython3",
   "version": "3.8.8"
  }
 },
 "nbformat": 4,
 "nbformat_minor": 5
}
