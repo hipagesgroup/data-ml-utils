{
 "cells": [
  {
   "cell_type": "code",
   "execution_count": 1,
   "id": "13dc1f86",
   "metadata": {},
   "outputs": [],
   "source": [
    "import os\n",
    "from data_ml_utils.pyathena_client.client import PyAthenaClient\n",
    "\n",
    "os.environ[\"AWS_ACCESS_KEY_ID\"] = \"xx\"\n",
    "os.environ[\"AWS_SECRET_ACCESS_KEY\"] = \"xx\"\n",
    "os.environ[\"S3_BUCKET\"] = \"xx\""
   ]
  },
  {
   "cell_type": "markdown",
   "id": "eb4a5305",
   "metadata": {},
   "source": [
    "### initialise pyathena client"
   ]
  },
  {
   "cell_type": "code",
   "execution_count": 2,
   "id": "159a7d0c",
   "metadata": {},
   "outputs": [],
   "source": [
    "pyathena_client = PyAthenaClient()"
   ]
  },
  {
   "cell_type": "markdown",
   "id": "270811d0",
   "metadata": {},
   "source": [
    "### query with `pyathena_client`\n",
    "- the way we are querying with athena, saves `int64` as pandas `Int64`\n",
    "    - this data type is incompatible with most of the pandas function we will use\n",
    "    - we will have to convert them to \n",
    "- almost one-liner to query results and return as pandas dataframe"
   ]
  },
  {
   "cell_type": "code",
   "execution_count": 3,
   "id": "87e3d160",
   "metadata": {},
   "outputs": [
    {
     "data": {
      "text/plain": [
       "dummy_column    object\n",
       "dummy_value      int64\n",
       "date_created    object\n",
       "dtype: object"
      ]
     },
     "execution_count": 3,
     "metadata": {},
     "output_type": "execute_result"
    }
   ],
   "source": [
    "query = \"\"\"\n",
    "SELECT\n",
    "    *\n",
    "FROM\n",
    "    dev.example_pyathena_client_table\n",
    "LIMIT 10\n",
    "\"\"\"\n",
    "\n",
    "df_raw = pyathena_client.query_as_pandas(final_query=query)\n",
    "df_raw.dtypes"
   ]
  },
  {
   "cell_type": "code",
   "execution_count": 4,
   "id": "418446db",
   "metadata": {},
   "outputs": [
    {
     "data": {
      "text/html": [
       "<div>\n",
       "<style scoped>\n",
       "    .dataframe tbody tr th:only-of-type {\n",
       "        vertical-align: middle;\n",
       "    }\n",
       "\n",
       "    .dataframe tbody tr th {\n",
       "        vertical-align: top;\n",
       "    }\n",
       "\n",
       "    .dataframe thead th {\n",
       "        text-align: right;\n",
       "    }\n",
       "</style>\n",
       "<table border=\"1\" class=\"dataframe\">\n",
       "  <thead>\n",
       "    <tr style=\"text-align: right;\">\n",
       "      <th></th>\n",
       "      <th>dummy_column</th>\n",
       "      <th>dummy_value</th>\n",
       "      <th>date_created</th>\n",
       "    </tr>\n",
       "  </thead>\n",
       "  <tbody>\n",
       "    <tr>\n",
       "      <th>0</th>\n",
       "      <td>dummy</td>\n",
       "      <td>100</td>\n",
       "      <td>1989-01-01</td>\n",
       "    </tr>\n",
       "    <tr>\n",
       "      <th>1</th>\n",
       "      <td>dummy</td>\n",
       "      <td>100</td>\n",
       "      <td>1989-01-01</td>\n",
       "    </tr>\n",
       "  </tbody>\n",
       "</table>\n",
       "</div>"
      ],
      "text/plain": [
       "  dummy_column  dummy_value date_created\n",
       "0        dummy          100   1989-01-01\n",
       "1        dummy          100   1989-01-01"
      ]
     },
     "execution_count": 4,
     "metadata": {},
     "output_type": "execute_result"
    }
   ],
   "source": [
    "df_raw.head()"
   ]
  },
  {
   "cell_type": "markdown",
   "id": "34cc824c",
   "metadata": {},
   "source": [
    "### drop athena table\n",
    "- we will use `dev.test_tutorial_table` as an example\n",
    "- one-liner to drop athena table\n",
    "- if successful returns 0, else 1"
   ]
  },
  {
   "cell_type": "code",
   "execution_count": 5,
   "id": "aa99aca1",
   "metadata": {},
   "outputs": [
    {
     "data": {
      "text/plain": [
       "0"
      ]
     },
     "execution_count": 5,
     "metadata": {},
     "output_type": "execute_result"
    }
   ],
   "source": [
    "pyathena_client.drop_table(\n",
    "    table_name=\"example_pyathena_client_table\",\n",
    "    database=\"dev\"\n",
    ")"
   ]
  },
  {
   "cell_type": "markdown",
   "id": "04bcb956",
   "metadata": {},
   "source": [
    "### creating table with schema (or updating partitions of table) in offline feature store\n",
    "- if there are changes to schema, table has to be dropped and recreated again\n",
    "- we will use `dev.test_tutorial_table` as an example\n",
    "- if successful returns 0, else 1\n",
    "\n",
    "- one-liner to create table and update partitions\n",
    "\n",
    "- in athena, we have to manually add the newly created (or missing partitions) data by running `msck repair table` SQL command\n",
    "    - `msck repair table` will look at all the partitions within the s3 directory, and add partitions that are missing"
   ]
  },
  {
   "cell_type": "code",
   "execution_count": 6,
   "id": "1eb4cebd",
   "metadata": {},
   "outputs": [
    {
     "data": {
      "text/plain": [
       "0"
      ]
     },
     "execution_count": 6,
     "metadata": {},
     "output_type": "execute_result"
    }
   ],
   "source": [
    "pyathena_client.create_msck_repair_table(\n",
    "    create_raw_query=\"tutorial_sql_schema/create_table_schema.sql\",\n",
    "    repair_raw_query=\"tutorial_sql_schema/msck_repair_table.sql\",\n",
    "    yaml_schema_file_path=\"tutorial_sql_schema/test_tutorial_table.yaml\"\n",
    ")"
   ]
  }
 ],
 "metadata": {
  "kernelspec": {
   "display_name": "Python 3",
   "language": "python",
   "name": "python3"
  },
  "language_info": {
   "codemirror_mode": {
    "name": "ipython",
    "version": 3
   },
   "file_extension": ".py",
   "mimetype": "text/x-python",
   "name": "python",
   "nbconvert_exporter": "python",
   "pygments_lexer": "ipython3",
   "version": "3.8.8"
  }
 },
 "nbformat": 4,
 "nbformat_minor": 5
}
