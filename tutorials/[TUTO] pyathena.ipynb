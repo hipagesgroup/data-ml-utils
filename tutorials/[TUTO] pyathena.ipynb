{
 "cells": [
  {
   "cell_type": "code",
   "execution_count": 1,
   "id": "13dc1f86",
   "metadata": {},
   "outputs": [],
   "source": [
    "import os\n",
    "from data_ml_utils.pyathena_client.client import PyAthenaClient\n",
    "\n",
    "os.environ[\"AWS_ACCESS_KEY_ID\"] = \"xxx\"\n",
    "os.environ[\"AWS_SECRET_ACCESS_KEY\"] = \"xxx\""
   ]
  },
  {
   "cell_type": "markdown",
   "id": "eb4a5305",
   "metadata": {},
   "source": [
    "### initialise pyathena client"
   ]
  },
  {
   "cell_type": "code",
   "execution_count": 2,
   "id": "159a7d0c",
   "metadata": {},
   "outputs": [],
   "source": [
    "pyathena_client = PyAthenaClient()"
   ]
  },
  {
   "cell_type": "markdown",
   "id": "270811d0",
   "metadata": {},
   "source": [
    "### query with `pyathena_client`\n",
    "- the way we are querying with athena, saves `int64` as pandas `Int64`\n",
    "    - this data type is incompatible with most of the pandas function we will use\n",
    "    - we will have to convert them to \n",
    "- almost one-liner to query results and return as pandas dataframe"
   ]
  },
  {
   "cell_type": "code",
   "execution_count": 3,
   "id": "87e3d160",
   "metadata": {},
   "outputs": [
    {
     "data": {
      "text/plain": [
       "num_active_tradies       int64\n",
       "num_inactive_tradies     int64\n",
       "date_created            object\n",
       "dtype: object"
      ]
     },
     "execution_count": 3,
     "metadata": {},
     "output_type": "execute_result"
    }
   ],
   "source": [
    "query = \"\"\"\n",
    "SELECT\n",
    "    *\n",
    "FROM\n",
    "    reporting_metrics_dev.int_active_tradies_count__tradie\n",
    "LIMIT 10\n",
    "\"\"\"\n",
    "\n",
    "df_raw = pyathena_client.query_as_pandas(final_query=query)\n",
    "df_raw.dtypes"
   ]
  },
  {
   "cell_type": "code",
   "execution_count": 4,
   "id": "418446db",
   "metadata": {},
   "outputs": [
    {
     "data": {
      "text/html": [
       "<div>\n",
       "<style scoped>\n",
       "    .dataframe tbody tr th:only-of-type {\n",
       "        vertical-align: middle;\n",
       "    }\n",
       "\n",
       "    .dataframe tbody tr th {\n",
       "        vertical-align: top;\n",
       "    }\n",
       "\n",
       "    .dataframe thead th {\n",
       "        text-align: right;\n",
       "    }\n",
       "</style>\n",
       "<table border=\"1\" class=\"dataframe\">\n",
       "  <thead>\n",
       "    <tr style=\"text-align: right;\">\n",
       "      <th></th>\n",
       "      <th>num_active_tradies</th>\n",
       "      <th>num_inactive_tradies</th>\n",
       "      <th>date_created</th>\n",
       "    </tr>\n",
       "  </thead>\n",
       "  <tbody>\n",
       "    <tr>\n",
       "      <th>0</th>\n",
       "      <td>21159</td>\n",
       "      <td>316175</td>\n",
       "      <td>2022-03-02</td>\n",
       "    </tr>\n",
       "    <tr>\n",
       "      <th>1</th>\n",
       "      <td>21085</td>\n",
       "      <td>316394</td>\n",
       "      <td>2022-03-04</td>\n",
       "    </tr>\n",
       "    <tr>\n",
       "      <th>2</th>\n",
       "      <td>21055</td>\n",
       "      <td>316195</td>\n",
       "      <td>2022-03-01</td>\n",
       "    </tr>\n",
       "    <tr>\n",
       "      <th>3</th>\n",
       "      <td>21042</td>\n",
       "      <td>316439</td>\n",
       "      <td>2022-03-05</td>\n",
       "    </tr>\n",
       "  </tbody>\n",
       "</table>\n",
       "</div>"
      ],
      "text/plain": [
       "   num_active_tradies  num_inactive_tradies date_created\n",
       "0               21159                316175   2022-03-02\n",
       "1               21085                316394   2022-03-04\n",
       "2               21055                316195   2022-03-01\n",
       "3               21042                316439   2022-03-05"
      ]
     },
     "execution_count": 4,
     "metadata": {},
     "output_type": "execute_result"
    }
   ],
   "source": [
    "df_raw.head()"
   ]
  },
  {
   "cell_type": "markdown",
   "id": "34cc824c",
   "metadata": {},
   "source": [
    "### drop athena table\n",
    "- we will use `reporting_metrics_dev.int_active_tradies_count__tradie` as an example\n",
    "- one-liner to drop athena table\n",
    "- if successful returns 0, else 1"
   ]
  },
  {
   "cell_type": "code",
   "execution_count": 6,
   "id": "aa99aca1",
   "metadata": {},
   "outputs": [
    {
     "data": {
      "text/plain": [
       "0"
      ]
     },
     "execution_count": 6,
     "metadata": {},
     "output_type": "execute_result"
    }
   ],
   "source": [
    "pyathena_client.drop_table(\n",
    "    table_name=\"int_active_tradies_count__tradie\",\n",
    "    database=\"reporting_metrics_dev\"\n",
    ")"
   ]
  },
  {
   "cell_type": "markdown",
   "id": "578597e2",
   "metadata": {},
   "source": [
    "### creating table with schema (or updating partitions of table) in offline feature store\n",
    "- if there are changes to schema, table has to be dropped and recreated again\n",
    "- we will use `reporting_metrics_dev.int_active_tradies_count__tradie` as an example\n",
    "- if successful returns 0, else 1\n",
    "\n",
    "- one-liner to create table and update partitions"
   ]
  },
  {
   "cell_type": "code",
   "execution_count": 7,
   "id": "1eb4cebd",
   "metadata": {},
   "outputs": [
    {
     "data": {
      "text/plain": [
       "0"
      ]
     },
     "execution_count": 7,
     "metadata": {},
     "output_type": "execute_result"
    }
   ],
   "source": [
    "pyathena_client.create_msck_repair_table(\n",
    "    create_raw_query=\"tutorial_sql_schema/create_table_schema.sql\",\n",
    "    repair_raw_query=\"tutorial_sql_schema/msck_repair_table.sql\",\n",
    "    yaml_schema_file_path=\"tutorial_sql_schema/int_active_tradies_count__tradie.yaml\"\n",
    ")"
   ]
  }
 ],
 "metadata": {
  "kernelspec": {
   "display_name": "Python 3",
   "language": "python",
   "name": "python3"
  },
  "language_info": {
   "codemirror_mode": {
    "name": "ipython",
    "version": 3
   },
   "file_extension": ".py",
   "mimetype": "text/x-python",
   "name": "python",
   "nbconvert_exporter": "python",
   "pygments_lexer": "ipython3",
   "version": "3.8.8"
  }
 },
 "nbformat": 4,
 "nbformat_minor": 5
}
