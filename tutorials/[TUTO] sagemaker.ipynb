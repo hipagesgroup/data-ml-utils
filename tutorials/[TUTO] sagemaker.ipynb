{
 "cells": [
  {
   "cell_type": "code",
   "execution_count": 1,
   "id": "13dc1f86",
   "metadata": {},
   "outputs": [],
   "source": [
    "import os\n",
    "from data_ml_utils.boto3_botocore_client.client_sagemaker import AwsSagemakerServices\n",
    "\n",
    "os.environ[\"AWS_ACCESS_KEY_ID\"] = \"xxx\"\n",
    "os.environ[\"AWS_SECRET_ACCESS_KEY\"] = \"xxx\""
   ]
  },
  {
   "cell_type": "markdown",
   "id": "eb4a5305",
   "metadata": {},
   "source": [
    "### initialise sagemaker client"
   ]
  },
  {
   "cell_type": "code",
   "execution_count": 2,
   "id": "159a7d0c",
   "metadata": {},
   "outputs": [],
   "source": [
    "aws_sagemaker = AwsSagemakerServices()"
   ]
  },
  {
   "cell_type": "markdown",
   "id": "270811d0",
   "metadata": {},
   "source": [
    "### get approved model artefact uri from AWS model registry\n",
    "- one-liner to get model artefact uri\n",
    "- returns model artefact uri + model artefact filename"
   ]
  },
  {
   "cell_type": "code",
   "execution_count": 3,
   "id": "87e3d160",
   "metadata": {},
   "outputs": [
    {
     "data": {
      "text/plain": [
       "('s3://sagemaker-ap-southeast-2-251259879778/model.tar.gz', 'model.tar.gz')"
      ]
     },
     "execution_count": 3,
     "metadata": {},
     "output_type": "execute_result"
    }
   ],
   "source": [
    "aws_sagemaker.get_model_uri_from_aws_model_registry(model_name=\"churn-test\")"
   ]
  },
  {
   "cell_type": "markdown",
   "id": "34cc824c",
   "metadata": {},
   "source": [
    "### unzip approved model artefact from AWS model registry\n",
    "- one-liner to unzip model artefact\n",
    "- if successful return 0"
   ]
  },
  {
   "cell_type": "code",
   "execution_count": 5,
   "id": "aa99aca1",
   "metadata": {},
   "outputs": [
    {
     "data": {
      "text/plain": [
       "0"
      ]
     },
     "execution_count": 5,
     "metadata": {},
     "output_type": "execute_result"
    }
   ],
   "source": [
    "aws_sagemaker.unzip_targz_file(\n",
    "    file_targz=\"model.tar.gz\",\n",
    "    bucket_name_trunc=\"sagemaker-ap-southeast-2-251259879778\",\n",
    "    targz_file_uri=\"s3://sagemaker-ap-southeast-2-251259879778/model.tar.gz\",\n",
    "    s3_file_path=\"models\",\n",
    ")"
   ]
  },
  {
   "cell_type": "markdown",
   "id": "578597e2",
   "metadata": {},
   "source": [
    "### upload model artefact to s3\n",
    "- one-liner to upload model artefact\n",
    "- returns model artefact filename"
   ]
  },
  {
   "cell_type": "code",
   "execution_count": 6,
   "id": "1eb4cebd",
   "metadata": {},
   "outputs": [
    {
     "data": {
      "text/plain": [
       "'model_222.tar.gz'"
      ]
     },
     "execution_count": 6,
     "metadata": {},
     "output_type": "execute_result"
    }
   ],
   "source": [
    "aws_sagemaker.upload_retrained_model_s3(\n",
    "    date_format=\"222\",\n",
    "    bucket_name_trunc=\"sagemaker-ap-southeast-2-251259879778\",\n",
    "    s3_file_path=\"models\",\n",
    "    model_suffix=\"model\",\n",
    ")"
   ]
  },
  {
   "cell_type": "markdown",
   "id": "1346e43e",
   "metadata": {},
   "source": [
    "### create model package version in AWS model registry\n",
    "- one-liner to create model package version in AWS model registry\n",
    "- if successful returns 0, else raise exception"
   ]
  },
  {
   "cell_type": "code",
   "execution_count": 7,
   "id": "4b355a41",
   "metadata": {},
   "outputs": [
    {
     "name": "stdout",
     "output_type": "stream",
     "text": [
      "arn:aws:sagemaker:ap-southeast-2:251259879778:model-package/churn-test/6\n"
     ]
    },
    {
     "data": {
      "text/plain": [
       "0"
      ]
     },
     "execution_count": 7,
     "metadata": {},
     "output_type": "execute_result"
    }
   ],
   "source": [
    "dummy_dict = {\n",
    "    \"test_retrained\": \"0.8\",\n",
    "    \"test_current\": \"0.85\"\n",
    "}\n",
    "aws_sagemaker.create_model_package_version(\n",
    "    model_name=\"churn-test\",\n",
    "    model_file_name=\"model_222.tar.gz\",\n",
    "    current_retrained_model_metrics_dict=dummy_dict,\n",
    "    s3_directory=\"s3://sagemaker-ap-southeast-2-251259879778/models/\",\n",
    "    image_uri=\"251259879778.dkr.ecr.ap-southeast-2.amazonaws.com/churn-prediction-ninetails:dev\",\n",
    "    model_package_description=\"dummy push\",\n",
    ")"
   ]
  }
 ],
 "metadata": {
  "kernelspec": {
   "display_name": "Python 3",
   "language": "python",
   "name": "python3"
  },
  "language_info": {
   "codemirror_mode": {
    "name": "ipython",
    "version": 3
   },
   "file_extension": ".py",
   "mimetype": "text/x-python",
   "name": "python",
   "nbconvert_exporter": "python",
   "pygments_lexer": "ipython3",
   "version": "3.8.8"
  }
 },
 "nbformat": 4,
 "nbformat_minor": 5
}
